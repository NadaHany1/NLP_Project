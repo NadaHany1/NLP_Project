{
 "cells": [
  {
   "cell_type": "code",
   "execution_count": 1,
   "id": "e9fd7590",
   "metadata": {},
   "outputs": [],
   "source": [
    "import pandas as pd\n",
    "import numpy as np\n",
    "import tensorflow as tf\n",
    "from tensorflow import keras\n",
    "from tensorflow.keras.preprocessing.sequence import pad_sequences\n",
    "from tensorflow.keras.callbacks import ModelCheckpoint, EarlyStopping\n",
    "from tensorflow.keras.layers import InputLayer, Embedding, Bidirectional, LSTM, SpatialDropout1D, TimeDistributed, Dense\n",
    "from sklearn.model_selection import train_test_split"
   ]
  },
  {
   "cell_type": "code",
   "execution_count": 2,
   "id": "52dcd343",
   "metadata": {},
   "outputs": [],
   "source": [
    "data = pd.read_csv(r\"D:\\f\\Level 4\\Second term\\NLP\\project\\project\\ANERCORP.csv\", names=[\"Word\", \"Tag\"], encoding=\"utf-8\")"
   ]
  },
  {
   "cell_type": "code",
   "execution_count": 3,
   "id": "926b89e7",
   "metadata": {},
   "outputs": [
    {
     "name": "stdout",
     "output_type": "stream",
     "text": [
      "<class 'pandas.core.frame.DataFrame'>\n",
      "RangeIndex: 148563 entries, 0 to 148562\n",
      "Data columns (total 2 columns):\n",
      " #   Column  Non-Null Count   Dtype \n",
      "---  ------  --------------   ----- \n",
      " 0   Word    148556 non-null  object\n",
      " 1   Tag     148563 non-null  object\n",
      "dtypes: object(2)\n",
      "memory usage: 2.3+ MB\n"
     ]
    }
   ],
   "source": [
    "data.info()"
   ]
  },
  {
   "cell_type": "code",
   "execution_count": 4,
   "id": "c6762e19",
   "metadata": {},
   "outputs": [
    {
     "data": {
      "text/html": [
       "<div>\n",
       "<style scoped>\n",
       "    .dataframe tbody tr th:only-of-type {\n",
       "        vertical-align: middle;\n",
       "    }\n",
       "\n",
       "    .dataframe tbody tr th {\n",
       "        vertical-align: top;\n",
       "    }\n",
       "\n",
       "    .dataframe thead th {\n",
       "        text-align: right;\n",
       "    }\n",
       "</style>\n",
       "<table border=\"1\" class=\"dataframe\">\n",
       "  <thead>\n",
       "    <tr style=\"text-align: right;\">\n",
       "      <th></th>\n",
       "      <th>Word</th>\n",
       "      <th>Tag</th>\n",
       "    </tr>\n",
       "  </thead>\n",
       "  <tbody>\n",
       "    <tr>\n",
       "      <th>0</th>\n",
       "      <td>فرانكفورت</td>\n",
       "      <td>B-LOC</td>\n",
       "    </tr>\n",
       "    <tr>\n",
       "      <th>1</th>\n",
       "      <td>(د</td>\n",
       "      <td>O</td>\n",
       "    </tr>\n",
       "    <tr>\n",
       "      <th>2</th>\n",
       "      <td>ب</td>\n",
       "      <td>O</td>\n",
       "    </tr>\n",
       "    <tr>\n",
       "      <th>3</th>\n",
       "      <td>أ)</td>\n",
       "      <td>O</td>\n",
       "    </tr>\n",
       "    <tr>\n",
       "      <th>4</th>\n",
       "      <td>أعلن</td>\n",
       "      <td>O</td>\n",
       "    </tr>\n",
       "    <tr>\n",
       "      <th>5</th>\n",
       "      <td>اتحاد</td>\n",
       "      <td>B-ORG</td>\n",
       "    </tr>\n",
       "    <tr>\n",
       "      <th>6</th>\n",
       "      <td>صناعة</td>\n",
       "      <td>I-ORG</td>\n",
       "    </tr>\n",
       "    <tr>\n",
       "      <th>7</th>\n",
       "      <td>السيارات</td>\n",
       "      <td>I-ORG</td>\n",
       "    </tr>\n",
       "    <tr>\n",
       "      <th>8</th>\n",
       "      <td>في</td>\n",
       "      <td>O</td>\n",
       "    </tr>\n",
       "    <tr>\n",
       "      <th>9</th>\n",
       "      <td>ألمانيا</td>\n",
       "      <td>B-LOC</td>\n",
       "    </tr>\n",
       "  </tbody>\n",
       "</table>\n",
       "</div>"
      ],
      "text/plain": [
       "        Word    Tag\n",
       "0  فرانكفورت  B-LOC\n",
       "1         (د      O\n",
       "2          ب      O\n",
       "3         أ)      O\n",
       "4       أعلن      O\n",
       "5      اتحاد  B-ORG\n",
       "6      صناعة  I-ORG\n",
       "7   السيارات  I-ORG\n",
       "8         في      O\n",
       "9    ألمانيا  B-LOC"
      ]
     },
     "execution_count": 4,
     "metadata": {},
     "output_type": "execute_result"
    }
   ],
   "source": [
    "data.head(10)"
   ]
  },
  {
   "cell_type": "code",
   "execution_count": 5,
   "id": "6b14ce01",
   "metadata": {},
   "outputs": [
    {
     "name": "stdout",
     "output_type": "stream",
     "text": [
      "['B-LOC' 'O' 'B-ORG' 'I-ORG' 'B-PERS' 'I-PERS' 'I-LOC' 'B-MISC' 'I-MISC']\n"
     ]
    }
   ],
   "source": [
    "unique_tags = data[\"Tag\"].unique()\n",
    "print(unique_tags)"
   ]
  },
  {
   "cell_type": "code",
   "execution_count": 6,
   "id": "81fc3a11",
   "metadata": {},
   "outputs": [
    {
     "name": "stderr",
     "output_type": "stream",
     "text": [
      "C:\\Users\\pc\\AppData\\Local\\Temp\\ipykernel_18084\\701945761.py:5: FutureWarning: Series.__getitem__ treating keys as positions is deprecated. In a future version, integer keys will always be treated as labels (consistent with DataFrame behavior). To access a value by position, use `ser.iloc[pos]`\n",
      "  word = row[0]\n",
      "C:\\Users\\pc\\AppData\\Local\\Temp\\ipykernel_18084\\701945761.py:6: FutureWarning: Series.__getitem__ treating keys as positions is deprecated. In a future version, integer keys will always be treated as labels (consistent with DataFrame behavior). To access a value by position, use `ser.iloc[pos]`\n",
      "  tag = row[1]\n"
     ]
    }
   ],
   "source": [
    "sentences = []\n",
    "current_sentence = []\n",
    "\n",
    "for index, row in data.iterrows():\n",
    "    word = row[0]\n",
    "    tag = row[1]\n",
    "\n",
    "    if pd.notna(word) and pd.notna(tag):\n",
    "        current_sentence.append((word, tag))\n",
    "        if word == '.':\n",
    "            sentences.append(current_sentence)\n",
    "            current_sentence = []\n",
    "    else:\n",
    "        if current_sentence:\n",
    "            sentences.append(current_sentence)\n",
    "        current_sentence = []\n"
   ]
  },
  {
   "cell_type": "code",
   "execution_count": 7,
   "id": "222618b2",
   "metadata": {},
   "outputs": [
    {
     "name": "stdout",
     "output_type": "stream",
     "text": [
      "the total number of sentences:  4876\n"
     ]
    }
   ],
   "source": [
    "print(\"the total number of sentences: \",len(sentences))"
   ]
  },
  {
   "cell_type": "code",
   "execution_count": 8,
   "id": "2829073e",
   "metadata": {},
   "outputs": [],
   "source": [
    "words = list(set(data[\"Word\"].values))\n",
    "tags = list(set(data[\"Tag\"].values))\n",
    "\n",
    "word2idx = {w: i + 2 for i, w in enumerate(words)}\n",
    "word2idx[\"PAD\"] = 0\n",
    "word2idx[\"UNK\"] = 1\n",
    "\n",
    "tag2idx = {t: i for i, t in enumerate(tags)}\n",
    "\n",
    "idx2word = {i: w for w, i in word2idx.items()}\n",
    "idx2tag = {i: t for t, i in tag2idx.items()}"
   ]
  },
  {
   "cell_type": "code",
   "execution_count": 9,
   "id": "63c97e45",
   "metadata": {},
   "outputs": [],
   "source": [
    "import pickle\n",
    "\n",
    "with open(\"word2idx_2.pkl\", \"wb\") as f:\n",
    "    pickle.dump(word2idx, f)\n",
    "\n",
    "with open(\"idx2tag_2.pkl\", \"wb\") as f:\n",
    "    pickle.dump(idx2tag, f)"
   ]
  },
  {
   "cell_type": "code",
   "execution_count": 10,
   "id": "149fa8b4",
   "metadata": {},
   "outputs": [],
   "source": [
    "max_len = 50\n",
    "X = [[word2idx.get(w[0], word2idx[\"UNK\"]) for w in s] for s in sentences]\n",
    "X = pad_sequences(maxlen=max_len, sequences=X, padding=\"post\", value=word2idx[\"PAD\"])\n",
    "\n",
    "y = [[tag2idx[w[1]] for w in s] for s in sentences]\n",
    "y = pad_sequences(maxlen=max_len, sequences=y, padding=\"post\", value=tag2idx[\"O\"])\n",
    "y = np.expand_dims(y, -1)"
   ]
  },
  {
   "cell_type": "code",
   "execution_count": 11,
   "id": "3364072e",
   "metadata": {},
   "outputs": [
    {
     "name": "stdout",
     "output_type": "stream",
     "text": [
      "training samples count:  3900\n",
      "testing samples count:  976\n"
     ]
    }
   ],
   "source": [
    "x_train, x_test, y_train, y_test = train_test_split(X, y, test_size=0.2, random_state=42)\n",
    "\n",
    "print(\"training samples count: \", len(x_train))\n",
    "print(\"testing samples count: \",len(x_test))"
   ]
  },
  {
   "cell_type": "code",
   "execution_count": 12,
   "id": "fd013452",
   "metadata": {},
   "outputs": [
    {
     "name": "stderr",
     "output_type": "stream",
     "text": [
      "d:\\f\\venv\\PatternVenv\\Lib\\site-packages\\keras\\src\\layers\\core\\input_layer.py:27: UserWarning: Argument `input_shape` is deprecated. Use `shape` instead.\n",
      "  warnings.warn(\n",
      "d:\\f\\venv\\PatternVenv\\Lib\\site-packages\\keras\\src\\layers\\core\\embedding.py:90: UserWarning: Argument `input_length` is deprecated. Just remove it.\n",
      "  warnings.warn(\n"
     ]
    }
   ],
   "source": [
    "model = keras.Sequential([\n",
    "    InputLayer(input_shape=(max_len,)),\n",
    "    Embedding(input_dim=len(word2idx), output_dim=64, input_length=max_len),\n",
    "    SpatialDropout1D(0.1),\n",
    "    Bidirectional(LSTM(units=100, return_sequences=True, recurrent_dropout=0.1)),\n",
    "    TimeDistributed(Dense(len(tag2idx), activation=\"softmax\"))\n",
    "])"
   ]
  },
  {
   "cell_type": "code",
   "execution_count": 13,
   "id": "3d62a3c1",
   "metadata": {},
   "outputs": [
    {
     "data": {
      "text/html": [
       "<pre style=\"white-space:pre;overflow-x:auto;line-height:normal;font-family:Menlo,'DejaVu Sans Mono',consolas,'Courier New',monospace\"><span style=\"font-weight: bold\">Model: \"sequential\"</span>\n",
       "</pre>\n"
      ],
      "text/plain": [
       "\u001b[1mModel: \"sequential\"\u001b[0m\n"
      ]
     },
     "metadata": {},
     "output_type": "display_data"
    },
    {
     "data": {
      "text/html": [
       "<pre style=\"white-space:pre;overflow-x:auto;line-height:normal;font-family:Menlo,'DejaVu Sans Mono',consolas,'Courier New',monospace\">┏━━━━━━━━━━━━━━━━━━━━━━━━━━━━━━━━━┳━━━━━━━━━━━━━━━━━━━━━━━━┳━━━━━━━━━━━━━━━┓\n",
       "┃<span style=\"font-weight: bold\"> Layer (type)                    </span>┃<span style=\"font-weight: bold\"> Output Shape           </span>┃<span style=\"font-weight: bold\">       Param # </span>┃\n",
       "┡━━━━━━━━━━━━━━━━━━━━━━━━━━━━━━━━━╇━━━━━━━━━━━━━━━━━━━━━━━━╇━━━━━━━━━━━━━━━┩\n",
       "│ embedding (<span style=\"color: #0087ff; text-decoration-color: #0087ff\">Embedding</span>)           │ (<span style=\"color: #00d7ff; text-decoration-color: #00d7ff\">None</span>, <span style=\"color: #00af00; text-decoration-color: #00af00\">50</span>, <span style=\"color: #00af00; text-decoration-color: #00af00\">64</span>)         │     <span style=\"color: #00af00; text-decoration-color: #00af00\">2,124,992</span> │\n",
       "├─────────────────────────────────┼────────────────────────┼───────────────┤\n",
       "│ spatial_dropout1d               │ (<span style=\"color: #00d7ff; text-decoration-color: #00d7ff\">None</span>, <span style=\"color: #00af00; text-decoration-color: #00af00\">50</span>, <span style=\"color: #00af00; text-decoration-color: #00af00\">64</span>)         │             <span style=\"color: #00af00; text-decoration-color: #00af00\">0</span> │\n",
       "│ (<span style=\"color: #0087ff; text-decoration-color: #0087ff\">SpatialDropout1D</span>)              │                        │               │\n",
       "├─────────────────────────────────┼────────────────────────┼───────────────┤\n",
       "│ bidirectional (<span style=\"color: #0087ff; text-decoration-color: #0087ff\">Bidirectional</span>)   │ (<span style=\"color: #00d7ff; text-decoration-color: #00d7ff\">None</span>, <span style=\"color: #00af00; text-decoration-color: #00af00\">50</span>, <span style=\"color: #00af00; text-decoration-color: #00af00\">200</span>)        │       <span style=\"color: #00af00; text-decoration-color: #00af00\">132,000</span> │\n",
       "├─────────────────────────────────┼────────────────────────┼───────────────┤\n",
       "│ time_distributed                │ (<span style=\"color: #00d7ff; text-decoration-color: #00d7ff\">None</span>, <span style=\"color: #00af00; text-decoration-color: #00af00\">50</span>, <span style=\"color: #00af00; text-decoration-color: #00af00\">9</span>)          │         <span style=\"color: #00af00; text-decoration-color: #00af00\">1,809</span> │\n",
       "│ (<span style=\"color: #0087ff; text-decoration-color: #0087ff\">TimeDistributed</span>)               │                        │               │\n",
       "└─────────────────────────────────┴────────────────────────┴───────────────┘\n",
       "</pre>\n"
      ],
      "text/plain": [
       "┏━━━━━━━━━━━━━━━━━━━━━━━━━━━━━━━━━┳━━━━━━━━━━━━━━━━━━━━━━━━┳━━━━━━━━━━━━━━━┓\n",
       "┃\u001b[1m \u001b[0m\u001b[1mLayer (type)                   \u001b[0m\u001b[1m \u001b[0m┃\u001b[1m \u001b[0m\u001b[1mOutput Shape          \u001b[0m\u001b[1m \u001b[0m┃\u001b[1m \u001b[0m\u001b[1m      Param #\u001b[0m\u001b[1m \u001b[0m┃\n",
       "┡━━━━━━━━━━━━━━━━━━━━━━━━━━━━━━━━━╇━━━━━━━━━━━━━━━━━━━━━━━━╇━━━━━━━━━━━━━━━┩\n",
       "│ embedding (\u001b[38;5;33mEmbedding\u001b[0m)           │ (\u001b[38;5;45mNone\u001b[0m, \u001b[38;5;34m50\u001b[0m, \u001b[38;5;34m64\u001b[0m)         │     \u001b[38;5;34m2,124,992\u001b[0m │\n",
       "├─────────────────────────────────┼────────────────────────┼───────────────┤\n",
       "│ spatial_dropout1d               │ (\u001b[38;5;45mNone\u001b[0m, \u001b[38;5;34m50\u001b[0m, \u001b[38;5;34m64\u001b[0m)         │             \u001b[38;5;34m0\u001b[0m │\n",
       "│ (\u001b[38;5;33mSpatialDropout1D\u001b[0m)              │                        │               │\n",
       "├─────────────────────────────────┼────────────────────────┼───────────────┤\n",
       "│ bidirectional (\u001b[38;5;33mBidirectional\u001b[0m)   │ (\u001b[38;5;45mNone\u001b[0m, \u001b[38;5;34m50\u001b[0m, \u001b[38;5;34m200\u001b[0m)        │       \u001b[38;5;34m132,000\u001b[0m │\n",
       "├─────────────────────────────────┼────────────────────────┼───────────────┤\n",
       "│ time_distributed                │ (\u001b[38;5;45mNone\u001b[0m, \u001b[38;5;34m50\u001b[0m, \u001b[38;5;34m9\u001b[0m)          │         \u001b[38;5;34m1,809\u001b[0m │\n",
       "│ (\u001b[38;5;33mTimeDistributed\u001b[0m)               │                        │               │\n",
       "└─────────────────────────────────┴────────────────────────┴───────────────┘\n"
      ]
     },
     "metadata": {},
     "output_type": "display_data"
    },
    {
     "data": {
      "text/html": [
       "<pre style=\"white-space:pre;overflow-x:auto;line-height:normal;font-family:Menlo,'DejaVu Sans Mono',consolas,'Courier New',monospace\"><span style=\"font-weight: bold\"> Total params: </span><span style=\"color: #00af00; text-decoration-color: #00af00\">2,258,801</span> (8.62 MB)\n",
       "</pre>\n"
      ],
      "text/plain": [
       "\u001b[1m Total params: \u001b[0m\u001b[38;5;34m2,258,801\u001b[0m (8.62 MB)\n"
      ]
     },
     "metadata": {},
     "output_type": "display_data"
    },
    {
     "data": {
      "text/html": [
       "<pre style=\"white-space:pre;overflow-x:auto;line-height:normal;font-family:Menlo,'DejaVu Sans Mono',consolas,'Courier New',monospace\"><span style=\"font-weight: bold\"> Trainable params: </span><span style=\"color: #00af00; text-decoration-color: #00af00\">2,258,801</span> (8.62 MB)\n",
       "</pre>\n"
      ],
      "text/plain": [
       "\u001b[1m Trainable params: \u001b[0m\u001b[38;5;34m2,258,801\u001b[0m (8.62 MB)\n"
      ]
     },
     "metadata": {},
     "output_type": "display_data"
    },
    {
     "data": {
      "text/html": [
       "<pre style=\"white-space:pre;overflow-x:auto;line-height:normal;font-family:Menlo,'DejaVu Sans Mono',consolas,'Courier New',monospace\"><span style=\"font-weight: bold\"> Non-trainable params: </span><span style=\"color: #00af00; text-decoration-color: #00af00\">0</span> (0.00 B)\n",
       "</pre>\n"
      ],
      "text/plain": [
       "\u001b[1m Non-trainable params: \u001b[0m\u001b[38;5;34m0\u001b[0m (0.00 B)\n"
      ]
     },
     "metadata": {},
     "output_type": "display_data"
    }
   ],
   "source": [
    "model.compile(optimizer=\"adam\", loss=\"sparse_categorical_crossentropy\", metrics=[\"accuracy\"])\n",
    "model.summary()"
   ]
  },
  {
   "cell_type": "code",
   "execution_count": 37,
   "id": "a2ce11b8",
   "metadata": {},
   "outputs": [],
   "source": [
    "callbacks = [\n",
    "    ModelCheckpoint(\"arabic_ner_model.keras\", save_best_only=True, monitor=\"val_loss\"),\n",
    "    EarlyStopping(monitor=\"val_accuracy\", patience=2, restore_best_weights=True)\n",
    "]"
   ]
  },
  {
   "cell_type": "code",
   "execution_count": 38,
   "id": "aede882b",
   "metadata": {},
   "outputs": [
    {
     "name": "stdout",
     "output_type": "stream",
     "text": [
      "Epoch 1/10\n"
     ]
    },
    {
     "name": "stdout",
     "output_type": "stream",
     "text": [
      "\u001b[1m122/122\u001b[0m \u001b[32m━━━━━━━━━━━━━━━━━━━━\u001b[0m\u001b[37m\u001b[0m \u001b[1m19s\u001b[0m 153ms/step - accuracy: 0.9929 - loss: 0.0261 - val_accuracy: 0.9687 - val_loss: 0.1416\n",
      "Epoch 2/10\n",
      "\u001b[1m122/122\u001b[0m \u001b[32m━━━━━━━━━━━━━━━━━━━━\u001b[0m\u001b[37m\u001b[0m \u001b[1m19s\u001b[0m 152ms/step - accuracy: 0.9952 - loss: 0.0191 - val_accuracy: 0.9719 - val_loss: 0.1386\n",
      "Epoch 3/10\n",
      "\u001b[1m122/122\u001b[0m \u001b[32m━━━━━━━━━━━━━━━━━━━━\u001b[0m\u001b[37m\u001b[0m \u001b[1m19s\u001b[0m 153ms/step - accuracy: 0.9963 - loss: 0.0145 - val_accuracy: 0.9683 - val_loss: 0.1484\n",
      "Epoch 4/10\n",
      "\u001b[1m122/122\u001b[0m \u001b[32m━━━━━━━━━━━━━━━━━━━━\u001b[0m\u001b[37m\u001b[0m \u001b[1m19s\u001b[0m 151ms/step - accuracy: 0.9973 - loss: 0.0113 - val_accuracy: 0.9720 - val_loss: 0.1518\n",
      "Epoch 5/10\n",
      "\u001b[1m122/122\u001b[0m \u001b[32m━━━━━━━━━━━━━━━━━━━━\u001b[0m\u001b[37m\u001b[0m \u001b[1m18s\u001b[0m 150ms/step - accuracy: 0.9977 - loss: 0.0090 - val_accuracy: 0.9684 - val_loss: 0.1581\n",
      "Epoch 6/10\n",
      "\u001b[1m122/122\u001b[0m \u001b[32m━━━━━━━━━━━━━━━━━━━━\u001b[0m\u001b[37m\u001b[0m \u001b[1m19s\u001b[0m 154ms/step - accuracy: 0.9982 - loss: 0.0078 - val_accuracy: 0.9727 - val_loss: 0.1640\n",
      "Epoch 7/10\n",
      "\u001b[1m122/122\u001b[0m \u001b[32m━━━━━━━━━━━━━━━━━━━━\u001b[0m\u001b[37m\u001b[0m \u001b[1m19s\u001b[0m 157ms/step - accuracy: 0.9989 - loss: 0.0055 - val_accuracy: 0.9711 - val_loss: 0.1613\n",
      "Epoch 8/10\n",
      "\u001b[1m122/122\u001b[0m \u001b[32m━━━━━━━━━━━━━━━━━━━━\u001b[0m\u001b[37m\u001b[0m \u001b[1m19s\u001b[0m 156ms/step - accuracy: 0.9990 - loss: 0.0049 - val_accuracy: 0.9720 - val_loss: 0.1650\n"
     ]
    }
   ],
   "source": [
    "history = model.fit(\n",
    "    x_train, y_train,\n",
    "    validation_data=(x_test, y_test),\n",
    "    batch_size=32,\n",
    "    epochs=10,\n",
    "    callbacks=callbacks,\n",
    "    verbose=1\n",
    ")"
   ]
  },
  {
   "cell_type": "code",
   "execution_count": 39,
   "id": "a3db71a6",
   "metadata": {},
   "outputs": [
    {
     "name": "stdout",
     "output_type": "stream",
     "text": [
      "\n",
      "Evaluating on test set:\n",
      "\u001b[1m31/31\u001b[0m \u001b[32m━━━━━━━━━━━━━━━━━━━━\u001b[0m\u001b[37m\u001b[0m \u001b[1m1s\u001b[0m 37ms/step - accuracy: 0.9750 - loss: 0.1488\n",
      "Test Loss: 0.1640\n",
      "Test Accuracy: 0.9727\n"
     ]
    }
   ],
   "source": [
    "print(\"\\nEvaluating on test set:\")\n",
    "loss, accuracy = model.evaluate(x_test, y_test)\n",
    "print(f\"Test Loss: {loss:.4f}\")\n",
    "print(f\"Test Accuracy: {accuracy:.4f}\")"
   ]
  },
  {
   "cell_type": "code",
   "execution_count": 40,
   "id": "cc4083ce",
   "metadata": {},
   "outputs": [
    {
     "name": "stdout",
     "output_type": "stream",
     "text": [
      "\u001b[1m1/1\u001b[0m \u001b[32m━━━━━━━━━━━━━━━━━━━━\u001b[0m\u001b[37m\u001b[0m \u001b[1m0s\u001b[0m 121ms/step\n",
      "\n",
      "Example Index: 523\n",
      "Word            True     Pred    \n",
      "----------------------------------------\n",
      "وشن             O        O       \n",
      "المندوب         O        O       \n",
      "الإسرائيلي      O        O       \n",
      "دان             B-PERS   B-PERS  \n",
      "غيلرمان         I-PERS   I-PERS  \n",
      "هجوما           O        O       \n",
      "عنيفا           O        O       \n",
      "على             O        O       \n",
      "أمين            O        O       \n",
      "الأمم           B-ORG    B-ORG   \n",
      "المتحدة         I-ORG    I-ORG   \n",
      "لأن             O        O       \n",
      "تقريره          O        O       \n",
      "لم              O        O       \n",
      "يشر             O        O       \n",
      "إلى             O        O       \n",
      "الإرهاب         O        O       \n",
      "وإيران          B-LOC    B-LOC   \n",
      "وسوريا          B-LOC    B-LOC   \n",
      ".               O        O       \n",
      "\u001b[1m1/1\u001b[0m \u001b[32m━━━━━━━━━━━━━━━━━━━━\u001b[0m\u001b[37m\u001b[0m \u001b[1m0s\u001b[0m 91ms/step\n",
      "\n",
      "Example Index: 673\n",
      "Word            True     Pred    \n",
      "----------------------------------------\n",
      "القوى           O        O       \n",
      "التي            O        O       \n",
      "تسببت           O        O       \n",
      "-               O        O       \n",
      "ولا             O        O       \n",
      "تزال            O        O       \n",
      "-               O        O       \n",
      "في              O        O       \n",
      "هذا             O        O       \n",
      "التوتر          O        O       \n",
      "الطائفي         O        O       \n",
      "هي              O        O       \n",
      "القوى           O        O       \n",
      "السياسية        O        O       \n",
      "الإسلامية       O        O       \n",
      "الشيعية         O        O       \n",
      "الرئيسية        O        O       \n",
      "في              O        O       \n",
      "العراق          B-LOC    B-LOC   \n",
      "،               O        O       \n",
      "ومجموعات        O        O       \n",
      "إسلامية         O        O       \n",
      "هامشية          O        O       \n",
      "سنية            O        O       \n",
      ".               O        O       \n",
      "\u001b[1m1/1\u001b[0m \u001b[32m━━━━━━━━━━━━━━━━━━━━\u001b[0m\u001b[37m\u001b[0m \u001b[1m0s\u001b[0m 131ms/step\n",
      "\n",
      "Example Index: 638\n",
      "Word            True     Pred    \n",
      "----------------------------------------\n",
      "أسس             O        O       \n",
      "مدينة           O        O       \n",
      "كيتيون          B-LOC    O       \n",
      "في              O        O       \n",
      "قبرص            B-LOC    B-LOC   \n",
      ".               O        O       \n",
      "\u001b[1m1/1\u001b[0m \u001b[32m━━━━━━━━━━━━━━━━━━━━\u001b[0m\u001b[37m\u001b[0m \u001b[1m0s\u001b[0m 231ms/step\n",
      "\n",
      "Example Index: 376\n",
      "Word            True     Pred    \n",
      "----------------------------------------\n",
      "عليها           O        O       \n",
      "مكتب            O        O       \n",
      "النواب          O        O       \n",
      "(               O        O       \n",
      "أصبحت           O        O       \n",
      "لاحقا           O        O       \n",
      "كلية            O        B-ORG   \n",
      "الدراسات        O        O       \n",
      "الإسلامية       O        O       \n",
      ")               O        O       \n",
      "بهدف            O        O       \n",
      "تعليم           O        O       \n",
      "العلوم          O        O       \n",
      "الشرعية         O        O       \n",
      "وتأهيل          O        O       \n",
      "القضاة          O        O       \n",
      "الشرعيين        O        O       \n",
      "،               O        O       \n",
      "وقد             O        O       \n",
      "امتدح           O        O       \n",
      "مفتي            O        O       \n",
      "مصر             B-LOC    B-LOC   \n",
      "الراحل          O        O       \n",
      "الشيخ           O        O       \n",
      "محمد            B-PERS   B-PERS  \n",
      "عبده            I-PERS   I-PERS  \n",
      "(               O        O       \n",
      "1849            O        O       \n",
      "-               O        O       \n",
      "1905            O        O       \n",
      ")               O        O       \n",
      "تلك             O        O       \n",
      "المدرسة         O        O       \n",
      "عندما           O        O       \n",
      "اقترح           O        O       \n",
      "على             O        O       \n",
      "الحكومة         O        O       \n",
      "المصرية         O        O       \n",
      "تأسيس           O        O       \n",
      "مدارس           O        O       \n",
      "لتخريج          O        O       \n",
      "القضاة          O        O       \n",
      "الشرعيين        O        O       \n",
      "على             O        O       \n",
      "غرار            O        O       \n",
      "مكتب            O        O       \n",
      "النواب          O        O       \n",
      "في              O        O       \n",
      "سراييفو         B-LOC    O       \n",
      ".               O        O       \n"
     ]
    }
   ],
   "source": [
    "num_examples = 4\n",
    "indices = np.random.choice(range(2, x_test.shape[0]), size=num_examples, replace=False)\n",
    "\n",
    "for i in indices:\n",
    "    sample_input = x_test[i:i+1]\n",
    "    pred = model.predict(sample_input)\n",
    "    pred = np.argmax(pred, axis=-1)[0]\n",
    "    true = y_test[i].flatten()\n",
    "\n",
    "    print(\"\\nExample Index:\", i)\n",
    "    print(\"{:15} {:8} {:8}\".format(\"Word\", \"True\", \"Pred\"))\n",
    "    print(\"-\" * 40)\n",
    "    for w, t, p in zip(sample_input[0], true, pred):\n",
    "        if w != word2idx[\"PAD\"]:\n",
    "            print(\"{:15} {:8} {:8}\".format(idx2word[w], idx2tag[t], idx2tag[p]))"
   ]
  },
  {
   "cell_type": "code",
   "execution_count": 41,
   "id": "74153645",
   "metadata": {},
   "outputs": [],
   "source": [
    "def predict_sentence(sentence, model=model, word2idx=word2idx, idx2tag=idx2tag, max_len=50):\n",
    "    tokens = sentence.split()  # or use a tokenizer if needed\n",
    "    input_ids = [word2idx.get(w, word2idx.get(\"UNK\", 1)) for w in tokens]\n",
    "    \n",
    "    padded_input = input_ids + [word2idx[\"PAD\"]] * (max_len - len(input_ids))\n",
    "    padded_input = np.array(padded_input).reshape(1, max_len)\n",
    "\n",
    "    pred = model.predict(padded_input)\n",
    "    pred = np.argmax(pred, axis=-1)[0]\n",
    "\n",
    "    tags = [idx2tag[idx] for idx in pred[:len(tokens)]]\n",
    "\n",
    "    return list(zip(tokens, tags))"
   ]
  },
  {
   "cell_type": "code",
   "execution_count": 43,
   "id": "fc096183",
   "metadata": {},
   "outputs": [
    {
     "name": "stdout",
     "output_type": "stream",
     "text": [
      "\u001b[1m1/1\u001b[0m \u001b[32m━━━━━━━━━━━━━━━━━━━━\u001b[0m\u001b[37m\u001b[0m \u001b[1m0s\u001b[0m 109ms/step\n"
     ]
    },
    {
     "data": {
      "text/plain": [
       "[('ولد', 'O'),\n",
       " ('بشمهندس', 'O'),\n",
       " ('عمر', 'B-PERS'),\n",
       " ('طارق', 'I-PERS'),\n",
       " ('في', 'O'),\n",
       " ('مصر', 'B-LOC')]"
      ]
     },
     "execution_count": 43,
     "metadata": {},
     "output_type": "execute_result"
    }
   ],
   "source": [
    "predict_sentence(\"ولد بشمهندس عمر طارق في مصر\")"
   ]
  },
  {
   "cell_type": "code",
   "execution_count": 45,
   "id": "1ccb8d9c",
   "metadata": {},
   "outputs": [
    {
     "name": "stdout",
     "output_type": "stream",
     "text": [
      "\u001b[1m1/1\u001b[0m \u001b[32m━━━━━━━━━━━━━━━━━━━━\u001b[0m\u001b[37m\u001b[0m \u001b[1m0s\u001b[0m 238ms/step\n"
     ]
    },
    {
     "data": {
      "text/plain": [
       "[('عقد', 'O'),\n",
       " ('اليوم', 'O'),\n",
       " ('اجتماع', 'O'),\n",
       " ('الامم', 'B-ORG'),\n",
       " ('المتحدة', 'I-ORG'),\n",
       " ('في', 'O'),\n",
       " ('المملكة', 'B-LOC'),\n",
       " ('العربية', 'I-LOC'),\n",
       " ('السعودية', 'B-LOC'),\n",
       " ('بحضور', 'O'),\n",
       " ('كل', 'O'),\n",
       " ('من', 'O'),\n",
       " ('الرئيس', 'O'),\n",
       " ('المصري', 'O'),\n",
       " ('عبد', 'B-PERS'),\n",
       " ('الفتاح', 'I-PERS'),\n",
       " ('السيسي', 'I-PERS'),\n",
       " ('و', 'O'),\n",
       " ('الرئيس', 'O'),\n",
       " ('الامريكي', 'O'),\n",
       " ('دونالد', 'B-PERS'),\n",
       " ('ترامب', 'I-PERS')]"
      ]
     },
     "execution_count": 45,
     "metadata": {},
     "output_type": "execute_result"
    }
   ],
   "source": [
    "predict_sentence(\"عقد اليوم اجتماع الامم المتحدة في المملكة العربية السعودية بحضور كل من الرئيس المصري عبد الفتاح السيسي و الرئيس الامريكي دونالد ترامب\")"
   ]
  },
  {
   "cell_type": "code",
   "execution_count": null,
   "id": "c46df702",
   "metadata": {},
   "outputs": [],
   "source": []
  }
 ],
 "metadata": {
  "kernelspec": {
   "display_name": "PatternVenv",
   "language": "python",
   "name": "python3"
  },
  "language_info": {
   "codemirror_mode": {
    "name": "ipython",
    "version": 3
   },
   "file_extension": ".py",
   "mimetype": "text/x-python",
   "name": "python",
   "nbconvert_exporter": "python",
   "pygments_lexer": "ipython3",
   "version": "3.12.5"
  }
 },
 "nbformat": 4,
 "nbformat_minor": 5
}
